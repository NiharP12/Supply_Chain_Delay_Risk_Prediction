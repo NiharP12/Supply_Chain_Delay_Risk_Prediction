{
 "cells": [
  {
   "cell_type": "code",
   "execution_count": 3,
   "id": "29939768-c4ec-47df-97c0-a23d3e660dd9",
   "metadata": {},
   "outputs": [],
   "source": [
    "# Imports Libraries\n",
    "import pandas as pd\n",
    "import numpy as np\n",
    "import matplotlib.pyplot as plt\n",
    "import seaborn as sns\n",
    "from sklearn.tree import DecisionTreeClassifier\n",
    "from sklearn.model_selection import train_test_split\n",
    "from sklearn.preprocessing import LabelEncoder\n",
    "from sklearn.metrics import confusion_matrix, f1_score,precision_score, recall_score\n",
    "from imblearn.over_sampling import RandomOverSampler\n",
    "from imblearn.under_sampling import RandomUnderSampler\n",
    "from sklearn.model_selection import GridSearchCV"
   ]
  },
  {
   "cell_type": "code",
   "execution_count": 4,
   "id": "dfbd816e-cb65-448e-9c30-10938d902e2d",
   "metadata": {},
   "outputs": [],
   "source": [
    "# Load Data\n",
    "log = pd.read_csv(r\"C:\\Users\\Nihar Patel\\Projects\\Classifiaction\\Log Data.csv\")\n",
    "prod_cost = pd.read_csv(r\"C:\\Users\\Nihar Patel\\Projects\\Classifiaction\\Production Costs.csv\")\n",
    "products = pd.read_csv(r\"C:\\Users\\Nihar Patel\\Projects\\Classifiaction\\Products.csv\")\n",
    "shipping = pd.read_csv(r\"C:\\Users\\Nihar Patel\\Projects\\Classifiaction\\Warehouse Shipping Costs.csv\")"
   ]
  },
  {
   "cell_type": "code",
   "execution_count": 5,
   "id": "e72c0ea7-706c-46e0-a9e9-3ef9dd92060a",
   "metadata": {},
   "outputs": [
    {
     "data": {
      "text/html": [
       "<div>\n",
       "<style scoped>\n",
       "    .dataframe tbody tr th:only-of-type {\n",
       "        vertical-align: middle;\n",
       "    }\n",
       "\n",
       "    .dataframe tbody tr th {\n",
       "        vertical-align: top;\n",
       "    }\n",
       "\n",
       "    .dataframe thead th {\n",
       "        text-align: right;\n",
       "    }\n",
       "</style>\n",
       "<table border=\"1\" class=\"dataframe\">\n",
       "  <thead>\n",
       "    <tr style=\"text-align: right;\">\n",
       "      <th></th>\n",
       "      <th>Date</th>\n",
       "      <th>Order_ID</th>\n",
       "      <th>Product_ID_x</th>\n",
       "      <th>Warehouse_ID</th>\n",
       "      <th>Source_Factory_ID</th>\n",
       "      <th>Shipping_Time(Expected)</th>\n",
       "      <th>Shipping_Time(Actual)</th>\n",
       "      <th>Delay_Risk?</th>\n",
       "      <th>Total_Pieces</th>\n",
       "      <th>Pieces_sold</th>\n",
       "      <th>Pieces_Returned</th>\n",
       "      <th>Avg_Batch_Rating</th>\n",
       "      <th>Factory_ID</th>\n",
       "      <th>Manufacturing_Cost</th>\n",
       "      <th>Name</th>\n",
       "      <th>Gender</th>\n",
       "      <th>Selling_Price</th>\n",
       "      <th>Weight(in Kg)</th>\n",
       "      <th>Product_ID_y</th>\n",
       "      <th>Shipping_Cost(per 1000 pieces)</th>\n",
       "    </tr>\n",
       "  </thead>\n",
       "  <tbody>\n",
       "    <tr>\n",
       "      <th>0</th>\n",
       "      <td>01-04-2023</td>\n",
       "      <td>O00001</td>\n",
       "      <td>P011</td>\n",
       "      <td>W013</td>\n",
       "      <td>F001</td>\n",
       "      <td>4</td>\n",
       "      <td>4</td>\n",
       "      <td>No</td>\n",
       "      <td>1873</td>\n",
       "      <td>1368</td>\n",
       "      <td>76</td>\n",
       "      <td>4.4</td>\n",
       "      <td>F001</td>\n",
       "      <td>16.036461</td>\n",
       "      <td>Men's Blazer</td>\n",
       "      <td>M</td>\n",
       "      <td>80</td>\n",
       "      <td>2.2</td>\n",
       "      <td>P006</td>\n",
       "      <td>7200</td>\n",
       "    </tr>\n",
       "    <tr>\n",
       "      <th>1</th>\n",
       "      <td>01-04-2023</td>\n",
       "      <td>O00001</td>\n",
       "      <td>P011</td>\n",
       "      <td>W013</td>\n",
       "      <td>F001</td>\n",
       "      <td>4</td>\n",
       "      <td>4</td>\n",
       "      <td>No</td>\n",
       "      <td>1873</td>\n",
       "      <td>1368</td>\n",
       "      <td>76</td>\n",
       "      <td>4.4</td>\n",
       "      <td>F001</td>\n",
       "      <td>16.036461</td>\n",
       "      <td>Men's Blazer</td>\n",
       "      <td>M</td>\n",
       "      <td>80</td>\n",
       "      <td>2.2</td>\n",
       "      <td>P008</td>\n",
       "      <td>4000</td>\n",
       "    </tr>\n",
       "    <tr>\n",
       "      <th>2</th>\n",
       "      <td>01-04-2023</td>\n",
       "      <td>O00001</td>\n",
       "      <td>P011</td>\n",
       "      <td>W013</td>\n",
       "      <td>F001</td>\n",
       "      <td>4</td>\n",
       "      <td>4</td>\n",
       "      <td>No</td>\n",
       "      <td>1873</td>\n",
       "      <td>1368</td>\n",
       "      <td>76</td>\n",
       "      <td>4.4</td>\n",
       "      <td>F001</td>\n",
       "      <td>16.036461</td>\n",
       "      <td>Men's Blazer</td>\n",
       "      <td>M</td>\n",
       "      <td>80</td>\n",
       "      <td>2.2</td>\n",
       "      <td>P011</td>\n",
       "      <td>17600</td>\n",
       "    </tr>\n",
       "  </tbody>\n",
       "</table>\n",
       "</div>"
      ],
      "text/plain": [
       "         Date Order_ID Product_ID_x Warehouse_ID Source_Factory_ID  \\\n",
       "0  01-04-2023   O00001         P011         W013              F001   \n",
       "1  01-04-2023   O00001         P011         W013              F001   \n",
       "2  01-04-2023   O00001         P011         W013              F001   \n",
       "\n",
       "   Shipping_Time(Expected)  Shipping_Time(Actual) Delay_Risk?  Total_Pieces  \\\n",
       "0                        4                      4          No          1873   \n",
       "1                        4                      4          No          1873   \n",
       "2                        4                      4          No          1873   \n",
       "\n",
       "   Pieces_sold  Pieces_Returned  Avg_Batch_Rating Factory_ID  \\\n",
       "0         1368               76               4.4       F001   \n",
       "1         1368               76               4.4       F001   \n",
       "2         1368               76               4.4       F001   \n",
       "\n",
       "   Manufacturing_Cost          Name Gender  Selling_Price  Weight(in Kg)  \\\n",
       "0           16.036461  Men's Blazer      M             80            2.2   \n",
       "1           16.036461  Men's Blazer      M             80            2.2   \n",
       "2           16.036461  Men's Blazer      M             80            2.2   \n",
       "\n",
       "  Product_ID_y  Shipping_Cost(per 1000 pieces)  \n",
       "0         P006                            7200  \n",
       "1         P008                            4000  \n",
       "2         P011                           17600  "
      ]
     },
     "execution_count": 5,
     "metadata": {},
     "output_type": "execute_result"
    }
   ],
   "source": [
    "# Merge Data\n",
    "df = log.merge(prod_cost, on=\"Product_ID\", how=\"left\")\n",
    "df = df.merge(products, on=\"Product_ID\", how=\"left\")\n",
    "df = df.merge(shipping, on=[\"Warehouse_ID\", \"Source_Factory_ID\"], how=\"left\")\n",
    "df.head(3)"
   ]
  },
  {
   "cell_type": "code",
   "execution_count": 6,
   "id": "451fe89f-55a7-4152-bda4-9dab9db6cfe6",
   "metadata": {},
   "outputs": [],
   "source": [
    "# Clean Data\n",
    "df.dropna(inplace=True)\n",
    "df.drop_duplicates(inplace=True)"
   ]
  },
  {
   "cell_type": "code",
   "execution_count": 7,
   "id": "8bc25486-f85a-42bd-b4f4-a1359ed2079b",
   "metadata": {},
   "outputs": [],
   "source": [
    "# Create Target Column\n",
    "df[\"Delay_Risk?\"] = np.where(df[\"Shipping_Time(Actual)\"] > df[\"Shipping_Time(Expected)\"], 1, 0)"
   ]
  },
  {
   "cell_type": "code",
   "execution_count": 8,
   "id": "fa02ff50-bd8b-4dfb-93de-ce31a6d346ef",
   "metadata": {},
   "outputs": [],
   "source": [
    "# Drop Leakage and Useless Columns\n",
    "df.drop([\"Date\", \"Order_ID\", \"Product_ID_x\", \"Product_ID_y\",\"Shipping_Time(Actual)\", \"Name\",\"Gender\"], axis=1, inplace=True)"
   ]
  },
  {
   "cell_type": "code",
   "execution_count": 9,
   "id": "40cd55dc-4da3-4ec6-9f9b-4bef2d02d103",
   "metadata": {},
   "outputs": [],
   "source": [
    "# Shifting target column to the last\n",
    "delay_col = df.pop(\"Delay_Risk?\")\n",
    "df[\"Delay_Risk?\"] = delay_col"
   ]
  },
  {
   "cell_type": "code",
   "execution_count": 10,
   "id": "5cb0caac-04fe-4c7b-bf88-849642782a59",
   "metadata": {},
   "outputs": [
    {
     "data": {
      "text/html": [
       "<div>\n",
       "<style scoped>\n",
       "    .dataframe tbody tr th:only-of-type {\n",
       "        vertical-align: middle;\n",
       "    }\n",
       "\n",
       "    .dataframe tbody tr th {\n",
       "        vertical-align: top;\n",
       "    }\n",
       "\n",
       "    .dataframe thead th {\n",
       "        text-align: right;\n",
       "    }\n",
       "</style>\n",
       "<table border=\"1\" class=\"dataframe\">\n",
       "  <thead>\n",
       "    <tr style=\"text-align: right;\">\n",
       "      <th></th>\n",
       "      <th>Warehouse_ID</th>\n",
       "      <th>Source_Factory_ID</th>\n",
       "      <th>Shipping_Time(Expected)</th>\n",
       "      <th>Total_Pieces</th>\n",
       "      <th>Pieces_sold</th>\n",
       "      <th>Pieces_Returned</th>\n",
       "      <th>Avg_Batch_Rating</th>\n",
       "      <th>Factory_ID</th>\n",
       "      <th>Manufacturing_Cost</th>\n",
       "      <th>Selling_Price</th>\n",
       "      <th>Weight(in Kg)</th>\n",
       "      <th>Shipping_Cost(per 1000 pieces)</th>\n",
       "      <th>Delay_Risk?</th>\n",
       "    </tr>\n",
       "  </thead>\n",
       "  <tbody>\n",
       "    <tr>\n",
       "      <th>0</th>\n",
       "      <td>12</td>\n",
       "      <td>0</td>\n",
       "      <td>4</td>\n",
       "      <td>1873</td>\n",
       "      <td>1368</td>\n",
       "      <td>76</td>\n",
       "      <td>4.4</td>\n",
       "      <td>0</td>\n",
       "      <td>16.036461</td>\n",
       "      <td>80</td>\n",
       "      <td>2.20</td>\n",
       "      <td>7200</td>\n",
       "      <td>0</td>\n",
       "    </tr>\n",
       "    <tr>\n",
       "      <th>1</th>\n",
       "      <td>12</td>\n",
       "      <td>0</td>\n",
       "      <td>4</td>\n",
       "      <td>1873</td>\n",
       "      <td>1368</td>\n",
       "      <td>76</td>\n",
       "      <td>4.4</td>\n",
       "      <td>0</td>\n",
       "      <td>16.036461</td>\n",
       "      <td>80</td>\n",
       "      <td>2.20</td>\n",
       "      <td>4000</td>\n",
       "      <td>0</td>\n",
       "    </tr>\n",
       "    <tr>\n",
       "      <th>2</th>\n",
       "      <td>12</td>\n",
       "      <td>0</td>\n",
       "      <td>4</td>\n",
       "      <td>1873</td>\n",
       "      <td>1368</td>\n",
       "      <td>76</td>\n",
       "      <td>4.4</td>\n",
       "      <td>0</td>\n",
       "      <td>16.036461</td>\n",
       "      <td>80</td>\n",
       "      <td>2.20</td>\n",
       "      <td>17600</td>\n",
       "      <td>0</td>\n",
       "    </tr>\n",
       "    <tr>\n",
       "      <th>3</th>\n",
       "      <td>12</td>\n",
       "      <td>0</td>\n",
       "      <td>4</td>\n",
       "      <td>1873</td>\n",
       "      <td>1368</td>\n",
       "      <td>76</td>\n",
       "      <td>4.4</td>\n",
       "      <td>0</td>\n",
       "      <td>16.036461</td>\n",
       "      <td>80</td>\n",
       "      <td>2.20</td>\n",
       "      <td>1600</td>\n",
       "      <td>0</td>\n",
       "    </tr>\n",
       "    <tr>\n",
       "      <th>4</th>\n",
       "      <td>12</td>\n",
       "      <td>0</td>\n",
       "      <td>4</td>\n",
       "      <td>1873</td>\n",
       "      <td>1368</td>\n",
       "      <td>76</td>\n",
       "      <td>4.4</td>\n",
       "      <td>0</td>\n",
       "      <td>16.036461</td>\n",
       "      <td>80</td>\n",
       "      <td>2.20</td>\n",
       "      <td>1600</td>\n",
       "      <td>0</td>\n",
       "    </tr>\n",
       "    <tr>\n",
       "      <th>...</th>\n",
       "      <td>...</td>\n",
       "      <td>...</td>\n",
       "      <td>...</td>\n",
       "      <td>...</td>\n",
       "      <td>...</td>\n",
       "      <td>...</td>\n",
       "      <td>...</td>\n",
       "      <td>...</td>\n",
       "      <td>...</td>\n",
       "      <td>...</td>\n",
       "      <td>...</td>\n",
       "      <td>...</td>\n",
       "      <td>...</td>\n",
       "    </tr>\n",
       "    <tr>\n",
       "      <th>1788418</th>\n",
       "      <td>18</td>\n",
       "      <td>1</td>\n",
       "      <td>6</td>\n",
       "      <td>1522</td>\n",
       "      <td>1311</td>\n",
       "      <td>40</td>\n",
       "      <td>4.7</td>\n",
       "      <td>4</td>\n",
       "      <td>10.936400</td>\n",
       "      <td>15</td>\n",
       "      <td>0.05</td>\n",
       "      <td>1600</td>\n",
       "      <td>1</td>\n",
       "    </tr>\n",
       "    <tr>\n",
       "      <th>1788419</th>\n",
       "      <td>18</td>\n",
       "      <td>1</td>\n",
       "      <td>6</td>\n",
       "      <td>1522</td>\n",
       "      <td>1311</td>\n",
       "      <td>40</td>\n",
       "      <td>4.7</td>\n",
       "      <td>4</td>\n",
       "      <td>10.936400</td>\n",
       "      <td>15</td>\n",
       "      <td>0.05</td>\n",
       "      <td>4800</td>\n",
       "      <td>1</td>\n",
       "    </tr>\n",
       "    <tr>\n",
       "      <th>1788420</th>\n",
       "      <td>18</td>\n",
       "      <td>1</td>\n",
       "      <td>6</td>\n",
       "      <td>1522</td>\n",
       "      <td>1311</td>\n",
       "      <td>40</td>\n",
       "      <td>4.7</td>\n",
       "      <td>4</td>\n",
       "      <td>10.936400</td>\n",
       "      <td>15</td>\n",
       "      <td>0.05</td>\n",
       "      <td>400</td>\n",
       "      <td>1</td>\n",
       "    </tr>\n",
       "    <tr>\n",
       "      <th>1788421</th>\n",
       "      <td>18</td>\n",
       "      <td>1</td>\n",
       "      <td>6</td>\n",
       "      <td>1522</td>\n",
       "      <td>1311</td>\n",
       "      <td>40</td>\n",
       "      <td>4.7</td>\n",
       "      <td>4</td>\n",
       "      <td>10.936400</td>\n",
       "      <td>15</td>\n",
       "      <td>0.05</td>\n",
       "      <td>4800</td>\n",
       "      <td>1</td>\n",
       "    </tr>\n",
       "    <tr>\n",
       "      <th>1788422</th>\n",
       "      <td>18</td>\n",
       "      <td>1</td>\n",
       "      <td>6</td>\n",
       "      <td>1522</td>\n",
       "      <td>1311</td>\n",
       "      <td>40</td>\n",
       "      <td>4.7</td>\n",
       "      <td>4</td>\n",
       "      <td>10.936400</td>\n",
       "      <td>15</td>\n",
       "      <td>0.05</td>\n",
       "      <td>3200</td>\n",
       "      <td>1</td>\n",
       "    </tr>\n",
       "  </tbody>\n",
       "</table>\n",
       "<p>1788423 rows × 13 columns</p>\n",
       "</div>"
      ],
      "text/plain": [
       "         Warehouse_ID  Source_Factory_ID  Shipping_Time(Expected)  \\\n",
       "0                  12                  0                        4   \n",
       "1                  12                  0                        4   \n",
       "2                  12                  0                        4   \n",
       "3                  12                  0                        4   \n",
       "4                  12                  0                        4   \n",
       "...               ...                ...                      ...   \n",
       "1788418            18                  1                        6   \n",
       "1788419            18                  1                        6   \n",
       "1788420            18                  1                        6   \n",
       "1788421            18                  1                        6   \n",
       "1788422            18                  1                        6   \n",
       "\n",
       "         Total_Pieces  Pieces_sold  Pieces_Returned  Avg_Batch_Rating  \\\n",
       "0                1873         1368               76               4.4   \n",
       "1                1873         1368               76               4.4   \n",
       "2                1873         1368               76               4.4   \n",
       "3                1873         1368               76               4.4   \n",
       "4                1873         1368               76               4.4   \n",
       "...               ...          ...              ...               ...   \n",
       "1788418          1522         1311               40               4.7   \n",
       "1788419          1522         1311               40               4.7   \n",
       "1788420          1522         1311               40               4.7   \n",
       "1788421          1522         1311               40               4.7   \n",
       "1788422          1522         1311               40               4.7   \n",
       "\n",
       "         Factory_ID  Manufacturing_Cost  Selling_Price  Weight(in Kg)  \\\n",
       "0                 0           16.036461             80           2.20   \n",
       "1                 0           16.036461             80           2.20   \n",
       "2                 0           16.036461             80           2.20   \n",
       "3                 0           16.036461             80           2.20   \n",
       "4                 0           16.036461             80           2.20   \n",
       "...             ...                 ...            ...            ...   \n",
       "1788418           4           10.936400             15           0.05   \n",
       "1788419           4           10.936400             15           0.05   \n",
       "1788420           4           10.936400             15           0.05   \n",
       "1788421           4           10.936400             15           0.05   \n",
       "1788422           4           10.936400             15           0.05   \n",
       "\n",
       "         Shipping_Cost(per 1000 pieces)  Delay_Risk?  \n",
       "0                                  7200            0  \n",
       "1                                  4000            0  \n",
       "2                                 17600            0  \n",
       "3                                  1600            0  \n",
       "4                                  1600            0  \n",
       "...                                 ...          ...  \n",
       "1788418                            1600            1  \n",
       "1788419                            4800            1  \n",
       "1788420                             400            1  \n",
       "1788421                            4800            1  \n",
       "1788422                            3200            1  \n",
       "\n",
       "[1788423 rows x 13 columns]"
      ]
     },
     "execution_count": 10,
     "metadata": {},
     "output_type": "execute_result"
    }
   ],
   "source": [
    "# Encode Categorical Columns\n",
    "le = LabelEncoder()\n",
    "for col in df.select_dtypes(include=\"object\").columns:\n",
    "    df[col] = le.fit_transform(df[col])\n",
    "\n",
    "df"
   ]
  },
  {
   "cell_type": "code",
   "execution_count": 11,
   "id": "108f7923-442a-4bff-8847-ced1c52220c0",
   "metadata": {},
   "outputs": [],
   "source": [
    "# Split Features and Target\n",
    "x = df.iloc[:,:-1]\n",
    "y = df[\"Delay_Risk?\"]"
   ]
  },
  {
   "cell_type": "code",
   "execution_count": 12,
   "id": "b0976f34-c1b7-4b92-8ad0-bd58679ff458",
   "metadata": {},
   "outputs": [
    {
     "data": {
      "text/plain": [
       "Delay_Risk?\n",
       "0    1145585\n",
       "1     642838\n",
       "Name: count, dtype: int64"
      ]
     },
     "execution_count": 12,
     "metadata": {},
     "output_type": "execute_result"
    }
   ],
   "source": [
    "y.value_counts()"
   ]
  },
  {
   "cell_type": "code",
   "execution_count": 13,
   "id": "148b1139-8cf7-4da3-8646-0214e8bd7132",
   "metadata": {},
   "outputs": [
    {
     "data": {
      "text/plain": [
       "Delay_Risk?\n",
       "0    1145585\n",
       "1    1145585\n",
       "Name: count, dtype: int64"
      ]
     },
     "execution_count": 13,
     "metadata": {},
     "output_type": "execute_result"
    }
   ],
   "source": [
    "# Handle Imbalance with RandomOverSampler\n",
    "ros = RandomOverSampler(random_state=42)\n",
    "x_ro, y_ro = ros.fit_resample(x,y)\n",
    "y_ro.value_counts()"
   ]
  },
  {
   "cell_type": "code",
   "execution_count": 14,
   "id": "fc92a4b1-209e-47fe-8e9b-a12ec45e3539",
   "metadata": {},
   "outputs": [],
   "source": [
    "# Train-Test Split\n",
    "x_train, x_test, y_train, y_test = train_test_split(x_ro,y_ro, test_size=0.2, random_state=42)"
   ]
  },
  {
   "cell_type": "code",
   "execution_count": 15,
   "id": "16abe8ed-3bab-4861-8626-4557b34c2f92",
   "metadata": {},
   "outputs": [
    {
     "data": {
      "text/html": [
       "<style>#sk-container-id-1 {color: black;}#sk-container-id-1 pre{padding: 0;}#sk-container-id-1 div.sk-toggleable {background-color: white;}#sk-container-id-1 label.sk-toggleable__label {cursor: pointer;display: block;width: 100%;margin-bottom: 0;padding: 0.3em;box-sizing: border-box;text-align: center;}#sk-container-id-1 label.sk-toggleable__label-arrow:before {content: \"▸\";float: left;margin-right: 0.25em;color: #696969;}#sk-container-id-1 label.sk-toggleable__label-arrow:hover:before {color: black;}#sk-container-id-1 div.sk-estimator:hover label.sk-toggleable__label-arrow:before {color: black;}#sk-container-id-1 div.sk-toggleable__content {max-height: 0;max-width: 0;overflow: hidden;text-align: left;background-color: #f0f8ff;}#sk-container-id-1 div.sk-toggleable__content pre {margin: 0.2em;color: black;border-radius: 0.25em;background-color: #f0f8ff;}#sk-container-id-1 input.sk-toggleable__control:checked~div.sk-toggleable__content {max-height: 200px;max-width: 100%;overflow: auto;}#sk-container-id-1 input.sk-toggleable__control:checked~label.sk-toggleable__label-arrow:before {content: \"▾\";}#sk-container-id-1 div.sk-estimator input.sk-toggleable__control:checked~label.sk-toggleable__label {background-color: #d4ebff;}#sk-container-id-1 div.sk-label input.sk-toggleable__control:checked~label.sk-toggleable__label {background-color: #d4ebff;}#sk-container-id-1 input.sk-hidden--visually {border: 0;clip: rect(1px 1px 1px 1px);clip: rect(1px, 1px, 1px, 1px);height: 1px;margin: -1px;overflow: hidden;padding: 0;position: absolute;width: 1px;}#sk-container-id-1 div.sk-estimator {font-family: monospace;background-color: #f0f8ff;border: 1px dotted black;border-radius: 0.25em;box-sizing: border-box;margin-bottom: 0.5em;}#sk-container-id-1 div.sk-estimator:hover {background-color: #d4ebff;}#sk-container-id-1 div.sk-parallel-item::after {content: \"\";width: 100%;border-bottom: 1px solid gray;flex-grow: 1;}#sk-container-id-1 div.sk-label:hover label.sk-toggleable__label {background-color: #d4ebff;}#sk-container-id-1 div.sk-serial::before {content: \"\";position: absolute;border-left: 1px solid gray;box-sizing: border-box;top: 0;bottom: 0;left: 50%;z-index: 0;}#sk-container-id-1 div.sk-serial {display: flex;flex-direction: column;align-items: center;background-color: white;padding-right: 0.2em;padding-left: 0.2em;position: relative;}#sk-container-id-1 div.sk-item {position: relative;z-index: 1;}#sk-container-id-1 div.sk-parallel {display: flex;align-items: stretch;justify-content: center;background-color: white;position: relative;}#sk-container-id-1 div.sk-item::before, #sk-container-id-1 div.sk-parallel-item::before {content: \"\";position: absolute;border-left: 1px solid gray;box-sizing: border-box;top: 0;bottom: 0;left: 50%;z-index: -1;}#sk-container-id-1 div.sk-parallel-item {display: flex;flex-direction: column;z-index: 1;position: relative;background-color: white;}#sk-container-id-1 div.sk-parallel-item:first-child::after {align-self: flex-end;width: 50%;}#sk-container-id-1 div.sk-parallel-item:last-child::after {align-self: flex-start;width: 50%;}#sk-container-id-1 div.sk-parallel-item:only-child::after {width: 0;}#sk-container-id-1 div.sk-dashed-wrapped {border: 1px dashed gray;margin: 0 0.4em 0.5em 0.4em;box-sizing: border-box;padding-bottom: 0.4em;background-color: white;}#sk-container-id-1 div.sk-label label {font-family: monospace;font-weight: bold;display: inline-block;line-height: 1.2em;}#sk-container-id-1 div.sk-label-container {text-align: center;}#sk-container-id-1 div.sk-container {/* jupyter's `normalize.less` sets `[hidden] { display: none; }` but bootstrap.min.css set `[hidden] { display: none !important; }` so we also need the `!important` here to be able to override the default hidden behavior on the sphinx rendered scikit-learn.org. See: https://github.com/scikit-learn/scikit-learn/issues/21755 */display: inline-block !important;position: relative;}#sk-container-id-1 div.sk-text-repr-fallback {display: none;}</style><div id=\"sk-container-id-1\" class=\"sk-top-container\"><div class=\"sk-text-repr-fallback\"><pre>DecisionTreeClassifier(class_weight=&#x27;balanced&#x27;, random_state=42)</pre><b>In a Jupyter environment, please rerun this cell to show the HTML representation or trust the notebook. <br />On GitHub, the HTML representation is unable to render, please try loading this page with nbviewer.org.</b></div><div class=\"sk-container\" hidden><div class=\"sk-item\"><div class=\"sk-estimator sk-toggleable\"><input class=\"sk-toggleable__control sk-hidden--visually\" id=\"sk-estimator-id-1\" type=\"checkbox\" checked><label for=\"sk-estimator-id-1\" class=\"sk-toggleable__label sk-toggleable__label-arrow\">DecisionTreeClassifier</label><div class=\"sk-toggleable__content\"><pre>DecisionTreeClassifier(class_weight=&#x27;balanced&#x27;, random_state=42)</pre></div></div></div></div></div>"
      ],
      "text/plain": [
       "DecisionTreeClassifier(class_weight='balanced', random_state=42)"
      ]
     },
     "execution_count": 15,
     "metadata": {},
     "output_type": "execute_result"
    }
   ],
   "source": [
    "# Train Decision Tree\n",
    "dt = DecisionTreeClassifier(class_weight=\"balanced\", random_state=42)\n",
    "dt.fit(x_train,y_train)"
   ]
  },
  {
   "cell_type": "code",
   "execution_count": 16,
   "id": "37cc521f-ce5f-4044-9229-2e0d9e3effcc",
   "metadata": {},
   "outputs": [
    {
     "data": {
      "text/plain": [
       "99.99607187594111"
      ]
     },
     "execution_count": 16,
     "metadata": {},
     "output_type": "execute_result"
    }
   ],
   "source": [
    "# Model Accuracy\n",
    "dt.score(x_test,y_test)*100"
   ]
  },
  {
   "cell_type": "code",
   "execution_count": 17,
   "id": "05be6bc6-6d80-4431-8dda-1b31a46709a0",
   "metadata": {},
   "outputs": [],
   "source": [
    "# Predict and Evaluate\n",
    "y_pred = dt.predict(x_test)"
   ]
  },
  {
   "cell_type": "code",
   "execution_count": 19,
   "id": "f351cb1c-ae46-424a-b7fd-c7379a88f328",
   "metadata": {},
   "outputs": [],
   "source": [
    "cf = confusion_matrix(y_test, y_pred)"
   ]
  },
  {
   "cell_type": "code",
   "execution_count": 20,
   "id": "08eab43f-7857-49dc-b2c3-03a4bdd00970",
   "metadata": {},
   "outputs": [
    {
     "data": {
      "image/png": "[encoded data removed]",
      "text/plain": [
       "<Figure size 640x480 with 2 Axes>"
      ]
     },
     "metadata": {},
     "output_type": "display_data"
    },
    {
     "name": "stdout",
     "output_type": "stream",
     "text": [
      "F1 Score : 99.99607793577403\n",
      "Precision : 99.99302765406706\n",
      "Recall : 99.99912840358401\n"
     ]
    }
   ],
   "source": [
    "# Results\n",
    "sns.heatmap(cf, annot=True)\n",
    "plt.show()\n",
    "f1 = f1_score(y_test, y_pred)*100\n",
    "precision = precision_score(y_test,y_pred)*100\n",
    "recall = recall_score(y_test,y_pred)*100\n",
    "print(\"F1 Score :\",f1)\n",
    "print(\"Precision :\",precision)\n",
    "print(\"Recall :\",recall)"
   ]
  },
  {
   "cell_type": "code",
   "execution_count": 21,
   "id": "5e9a2294-9dfe-4119-9e06-6094931c5b8f",
   "metadata": {},
   "outputs": [
    {
     "data": {
      "image/png": "[encoded data removed]",
      "text/plain": [
       "<Figure size 600x600 with 1 Axes>"
      ]
     },
     "metadata": {},
     "output_type": "display_data"
    }
   ],
   "source": [
    "# Convert y_test to Series if it's not already\n",
    "y_test_series = pd.Series(y, name=\"Actual Delay Risk\")\n",
    "\n",
    "# Count actual delay (1) and no delay (0)\n",
    "actual_counts = y_test_series.value_counts().sort_index()  # 0 = No Delay, 1 = Delay\n",
    "\n",
    "# Labels for the pie chart\n",
    "labels = ['No Delay', 'Delay']\n",
    "\n",
    "# Plot\n",
    "plt.figure(figsize=(6,6))\n",
    "plt.pie(actual_counts, labels=labels, autopct='%1.1f%%', startangle=90, colors=['lightgreen', 'tomato'])\n",
    "plt.title(\"Actual Delay Distribution in Original Data\")\n",
    "plt.axis(\"equal\")  # Make the pie circular\n",
    "plt.tight_layout()\n",
    "plt.show()"
   ]
  },
  {
   "cell_type": "code",
   "execution_count": 22,
   "id": "da1e693b-93cd-4bd8-87b2-b87afbc8d925",
   "metadata": {},
   "outputs": [
    {
     "data": {
      "image/png": "[encoded data removed]",
      "text/plain": [
       "<Figure size 640x480 with 1 Axes>"
      ]
     },
     "metadata": {},
     "output_type": "display_data"
    }
   ],
   "source": [
    "# Add predictions back to X_test\n",
    "x_test_copy = x_test.copy()\n",
    "x_test_copy['Predicted'] = y_pred\n",
    "\n",
    "# Bin one feature (e.g., Total_Pieces)\n",
    "x_test_copy['Piece_Range'] = pd.cut(x_test_copy['Total_Pieces'], bins=5)\n",
    "\n",
    "# Barplot\n",
    "sns.countplot(data=x_test_copy, x='Piece_Range', hue='Predicted')\n",
    "plt.title(\"Predicted Delay by Piece Range\")\n",
    "plt.xticks(rotation=45)\n",
    "plt.legend(title=\"Predicted Delay\")\n",
    "plt.tight_layout()\n",
    "plt.show()\n"
   ]
  },
  {
   "cell_type": "code",
   "execution_count": null,
   "id": "5ddb18c5-b80c-4721-8e8a-8fbdba75a0e5",
   "metadata": {},
   "outputs": [],
   "source": []
  }
 ],
 "metadata": {
  "kernelspec": {
   "display_name": "Python 3 (ipykernel)",
   "language": "python",
   "name": "python3"
  },
  "language_info": {
   "codemirror_mode": {
    "name": "ipython",
    "version": 3
   },
   "file_extension": ".py",
   "mimetype": "text/x-python",
   "name": "python",
   "nbconvert_exporter": "python",
   "pygments_lexer": "ipython3",
   "version": "3.8.20"
  }
 },
 "nbformat": 4,
 "nbformat_minor": 5
}
